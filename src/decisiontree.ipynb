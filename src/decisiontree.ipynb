{
 "cells": [
  {
   "attachments": {},
   "cell_type": "markdown",
   "id": "e0dfb6b8",
   "metadata": {
    "papermill": {
     "duration": 0.018125,
     "end_time": "2023-03-17T08:31:33.142039",
     "exception": false,
     "start_time": "2023-03-17T08:31:33.123914",
     "status": "completed"
    },
    "tags": []
   },
   "source": [
    "# Bonus: Decision Tree Classifier"
   ]
  },
  {
   "cell_type": "markdown",
   "id": "97037da2",
   "metadata": {
    "papermill": {
     "duration": 0.018626,
     "end_time": "2023-03-17T08:31:33.177722",
     "exception": false,
     "start_time": "2023-03-17T08:31:33.159096",
     "status": "completed"
    },
    "tags": []
   },
   "source": [
    "## Import Libraries"
   ]
  },
  {
   "cell_type": "code",
   "execution_count": 1,
   "id": "fff420d6",
   "metadata": {
    "execution": {
     "iopub.execute_input": "2023-03-17T08:31:33.213342Z",
     "iopub.status.busy": "2023-03-17T08:31:33.212924Z",
     "iopub.status.idle": "2023-03-17T08:31:34.403739Z",
     "shell.execute_reply": "2023-03-17T08:31:34.402456Z"
    },
    "papermill": {
     "duration": 1.212181,
     "end_time": "2023-03-17T08:31:34.406849",
     "exception": false,
     "start_time": "2023-03-17T08:31:33.194668",
     "status": "completed"
    },
    "tags": []
   },
   "outputs": [],
   "source": [
    "import pandas as pd\n",
    "import numpy as np\n",
    "\n",
    "# Import model made from scratch\n",
    "from Models.tree import DecisionTreeClassifier"
   ]
  },
  {
   "attachments": {},
   "cell_type": "markdown",
   "id": "7bf2c2fa",
   "metadata": {
    "papermill": {
     "duration": 0.0167,
     "end_time": "2023-03-17T08:31:34.441011",
     "exception": false,
     "start_time": "2023-03-17T08:31:34.424311",
     "status": "completed"
    },
    "tags": []
   },
   "source": [
    "## Import Dataset\n",
    "Using the titanic dataset and only keeping the categorical columns for evaluation."
   ]
  },
  {
   "cell_type": "code",
   "execution_count": 2,
   "id": "0ec7d5cc",
   "metadata": {
    "execution": {
     "iopub.execute_input": "2023-03-17T08:31:34.477095Z",
     "iopub.status.busy": "2023-03-17T08:31:34.476701Z",
     "iopub.status.idle": "2023-03-17T08:31:34.523428Z",
     "shell.execute_reply": "2023-03-17T08:31:34.522563Z"
    },
    "papermill": {
     "duration": 0.067884,
     "end_time": "2023-03-17T08:31:34.526272",
     "exception": false,
     "start_time": "2023-03-17T08:31:34.458388",
     "status": "completed"
    },
    "tags": []
   },
   "outputs": [
    {
     "data": {
      "text/html": [
       "<div>\n",
       "<style scoped>\n",
       "    .dataframe tbody tr th:only-of-type {\n",
       "        vertical-align: middle;\n",
       "    }\n",
       "\n",
       "    .dataframe tbody tr th {\n",
       "        vertical-align: top;\n",
       "    }\n",
       "\n",
       "    .dataframe thead th {\n",
       "        text-align: right;\n",
       "    }\n",
       "</style>\n",
       "<table border=\"1\" class=\"dataframe\">\n",
       "  <thead>\n",
       "    <tr style=\"text-align: right;\">\n",
       "      <th></th>\n",
       "      <th>PassengerId</th>\n",
       "      <th>Survived</th>\n",
       "      <th>Pclass</th>\n",
       "      <th>Name</th>\n",
       "      <th>Sex</th>\n",
       "      <th>Age</th>\n",
       "      <th>SibSp</th>\n",
       "      <th>Parch</th>\n",
       "      <th>Ticket</th>\n",
       "      <th>Fare</th>\n",
       "      <th>Cabin</th>\n",
       "      <th>Embarked</th>\n",
       "    </tr>\n",
       "  </thead>\n",
       "  <tbody>\n",
       "    <tr>\n",
       "      <th>0</th>\n",
       "      <td>1</td>\n",
       "      <td>0</td>\n",
       "      <td>3</td>\n",
       "      <td>Braund, Mr. Owen Harris</td>\n",
       "      <td>male</td>\n",
       "      <td>22.0</td>\n",
       "      <td>1</td>\n",
       "      <td>0</td>\n",
       "      <td>A/5 21171</td>\n",
       "      <td>7.2500</td>\n",
       "      <td>NaN</td>\n",
       "      <td>S</td>\n",
       "    </tr>\n",
       "    <tr>\n",
       "      <th>1</th>\n",
       "      <td>2</td>\n",
       "      <td>1</td>\n",
       "      <td>1</td>\n",
       "      <td>Cumings, Mrs. John Bradley (Florence Briggs Th...</td>\n",
       "      <td>female</td>\n",
       "      <td>38.0</td>\n",
       "      <td>1</td>\n",
       "      <td>0</td>\n",
       "      <td>PC 17599</td>\n",
       "      <td>71.2833</td>\n",
       "      <td>C85</td>\n",
       "      <td>C</td>\n",
       "    </tr>\n",
       "    <tr>\n",
       "      <th>2</th>\n",
       "      <td>3</td>\n",
       "      <td>1</td>\n",
       "      <td>3</td>\n",
       "      <td>Heikkinen, Miss. Laina</td>\n",
       "      <td>female</td>\n",
       "      <td>26.0</td>\n",
       "      <td>0</td>\n",
       "      <td>0</td>\n",
       "      <td>STON/O2. 3101282</td>\n",
       "      <td>7.9250</td>\n",
       "      <td>NaN</td>\n",
       "      <td>S</td>\n",
       "    </tr>\n",
       "    <tr>\n",
       "      <th>3</th>\n",
       "      <td>4</td>\n",
       "      <td>1</td>\n",
       "      <td>1</td>\n",
       "      <td>Futrelle, Mrs. Jacques Heath (Lily May Peel)</td>\n",
       "      <td>female</td>\n",
       "      <td>35.0</td>\n",
       "      <td>1</td>\n",
       "      <td>0</td>\n",
       "      <td>113803</td>\n",
       "      <td>53.1000</td>\n",
       "      <td>C123</td>\n",
       "      <td>S</td>\n",
       "    </tr>\n",
       "    <tr>\n",
       "      <th>4</th>\n",
       "      <td>5</td>\n",
       "      <td>0</td>\n",
       "      <td>3</td>\n",
       "      <td>Allen, Mr. William Henry</td>\n",
       "      <td>male</td>\n",
       "      <td>35.0</td>\n",
       "      <td>0</td>\n",
       "      <td>0</td>\n",
       "      <td>373450</td>\n",
       "      <td>8.0500</td>\n",
       "      <td>NaN</td>\n",
       "      <td>S</td>\n",
       "    </tr>\n",
       "  </tbody>\n",
       "</table>\n",
       "</div>"
      ],
      "text/plain": [
       "   PassengerId  Survived  Pclass  \\\n",
       "0            1         0       3   \n",
       "1            2         1       1   \n",
       "2            3         1       3   \n",
       "3            4         1       1   \n",
       "4            5         0       3   \n",
       "\n",
       "                                                Name     Sex   Age  SibSp  \\\n",
       "0                            Braund, Mr. Owen Harris    male  22.0      1   \n",
       "1  Cumings, Mrs. John Bradley (Florence Briggs Th...  female  38.0      1   \n",
       "2                             Heikkinen, Miss. Laina  female  26.0      0   \n",
       "3       Futrelle, Mrs. Jacques Heath (Lily May Peel)  female  35.0      1   \n",
       "4                           Allen, Mr. William Henry    male  35.0      0   \n",
       "\n",
       "   Parch            Ticket     Fare Cabin Embarked  \n",
       "0      0         A/5 21171   7.2500   NaN        S  \n",
       "1      0          PC 17599  71.2833   C85        C  \n",
       "2      0  STON/O2. 3101282   7.9250   NaN        S  \n",
       "3      0            113803  53.1000  C123        S  \n",
       "4      0            373450   8.0500   NaN        S  "
      ]
     },
     "execution_count": 2,
     "metadata": {},
     "output_type": "execute_result"
    }
   ],
   "source": [
    "titanic_df = pd.read_csv('https://raw.githubusercontent.com/datasciencedojo/datasets/master/titanic.csv')\n",
    "titanic_df.head()"
   ]
  },
  {
   "cell_type": "code",
   "execution_count": 3,
   "id": "fdbd2b3a",
   "metadata": {
    "execution": {
     "iopub.execute_input": "2023-03-17T08:31:34.563540Z",
     "iopub.status.busy": "2023-03-17T08:31:34.563083Z",
     "iopub.status.idle": "2023-03-17T08:31:34.587003Z",
     "shell.execute_reply": "2023-03-17T08:31:34.585526Z"
    },
    "papermill": {
     "duration": 0.045608,
     "end_time": "2023-03-17T08:31:34.589848",
     "exception": false,
     "start_time": "2023-03-17T08:31:34.544240",
     "status": "completed"
    },
    "tags": []
   },
   "outputs": [],
   "source": [
    "# Splitting the data into train and test\n",
    "from sklearn.model_selection import train_test_split\n",
    "train_set, test_set = train_test_split(titanic_df, test_size=0.2, random_state=42, stratify=titanic_df['Survived'])"
   ]
  },
  {
   "cell_type": "code",
   "execution_count": 4,
   "id": "0f3004d9",
   "metadata": {},
   "outputs": [
    {
     "data": {
      "text/html": [
       "<div>\n",
       "<style scoped>\n",
       "    .dataframe tbody tr th:only-of-type {\n",
       "        vertical-align: middle;\n",
       "    }\n",
       "\n",
       "    .dataframe tbody tr th {\n",
       "        vertical-align: top;\n",
       "    }\n",
       "\n",
       "    .dataframe thead th {\n",
       "        text-align: right;\n",
       "    }\n",
       "</style>\n",
       "<table border=\"1\" class=\"dataframe\">\n",
       "  <thead>\n",
       "    <tr style=\"text-align: right;\">\n",
       "      <th></th>\n",
       "      <th>PassengerId</th>\n",
       "      <th>Survived</th>\n",
       "      <th>Pclass</th>\n",
       "      <th>Name</th>\n",
       "      <th>Sex</th>\n",
       "      <th>Age</th>\n",
       "      <th>SibSp</th>\n",
       "      <th>Parch</th>\n",
       "      <th>Ticket</th>\n",
       "      <th>Fare</th>\n",
       "      <th>Cabin</th>\n",
       "      <th>Embarked</th>\n",
       "    </tr>\n",
       "  </thead>\n",
       "  <tbody>\n",
       "    <tr>\n",
       "      <th>692</th>\n",
       "      <td>693</td>\n",
       "      <td>1</td>\n",
       "      <td>3</td>\n",
       "      <td>Lam, Mr. Ali</td>\n",
       "      <td>male</td>\n",
       "      <td>NaN</td>\n",
       "      <td>0</td>\n",
       "      <td>0</td>\n",
       "      <td>1601</td>\n",
       "      <td>56.4958</td>\n",
       "      <td>NaN</td>\n",
       "      <td>S</td>\n",
       "    </tr>\n",
       "    <tr>\n",
       "      <th>481</th>\n",
       "      <td>482</td>\n",
       "      <td>0</td>\n",
       "      <td>2</td>\n",
       "      <td>Frost, Mr. Anthony Wood \"Archie\"</td>\n",
       "      <td>male</td>\n",
       "      <td>NaN</td>\n",
       "      <td>0</td>\n",
       "      <td>0</td>\n",
       "      <td>239854</td>\n",
       "      <td>0.0000</td>\n",
       "      <td>NaN</td>\n",
       "      <td>S</td>\n",
       "    </tr>\n",
       "    <tr>\n",
       "      <th>527</th>\n",
       "      <td>528</td>\n",
       "      <td>0</td>\n",
       "      <td>1</td>\n",
       "      <td>Farthing, Mr. John</td>\n",
       "      <td>male</td>\n",
       "      <td>NaN</td>\n",
       "      <td>0</td>\n",
       "      <td>0</td>\n",
       "      <td>PC 17483</td>\n",
       "      <td>221.7792</td>\n",
       "      <td>C95</td>\n",
       "      <td>S</td>\n",
       "    </tr>\n",
       "    <tr>\n",
       "      <th>855</th>\n",
       "      <td>856</td>\n",
       "      <td>1</td>\n",
       "      <td>3</td>\n",
       "      <td>Aks, Mrs. Sam (Leah Rosen)</td>\n",
       "      <td>female</td>\n",
       "      <td>18.0</td>\n",
       "      <td>0</td>\n",
       "      <td>1</td>\n",
       "      <td>392091</td>\n",
       "      <td>9.3500</td>\n",
       "      <td>NaN</td>\n",
       "      <td>S</td>\n",
       "    </tr>\n",
       "    <tr>\n",
       "      <th>801</th>\n",
       "      <td>802</td>\n",
       "      <td>1</td>\n",
       "      <td>2</td>\n",
       "      <td>Collyer, Mrs. Harvey (Charlotte Annie Tate)</td>\n",
       "      <td>female</td>\n",
       "      <td>31.0</td>\n",
       "      <td>1</td>\n",
       "      <td>1</td>\n",
       "      <td>C.A. 31921</td>\n",
       "      <td>26.2500</td>\n",
       "      <td>NaN</td>\n",
       "      <td>S</td>\n",
       "    </tr>\n",
       "    <tr>\n",
       "      <th>...</th>\n",
       "      <td>...</td>\n",
       "      <td>...</td>\n",
       "      <td>...</td>\n",
       "      <td>...</td>\n",
       "      <td>...</td>\n",
       "      <td>...</td>\n",
       "      <td>...</td>\n",
       "      <td>...</td>\n",
       "      <td>...</td>\n",
       "      <td>...</td>\n",
       "      <td>...</td>\n",
       "      <td>...</td>\n",
       "    </tr>\n",
       "    <tr>\n",
       "      <th>359</th>\n",
       "      <td>360</td>\n",
       "      <td>1</td>\n",
       "      <td>3</td>\n",
       "      <td>Mockler, Miss. Helen Mary \"Ellie\"</td>\n",
       "      <td>female</td>\n",
       "      <td>NaN</td>\n",
       "      <td>0</td>\n",
       "      <td>0</td>\n",
       "      <td>330980</td>\n",
       "      <td>7.8792</td>\n",
       "      <td>NaN</td>\n",
       "      <td>Q</td>\n",
       "    </tr>\n",
       "    <tr>\n",
       "      <th>258</th>\n",
       "      <td>259</td>\n",
       "      <td>1</td>\n",
       "      <td>1</td>\n",
       "      <td>Ward, Miss. Anna</td>\n",
       "      <td>female</td>\n",
       "      <td>35.0</td>\n",
       "      <td>0</td>\n",
       "      <td>0</td>\n",
       "      <td>PC 17755</td>\n",
       "      <td>512.3292</td>\n",
       "      <td>NaN</td>\n",
       "      <td>C</td>\n",
       "    </tr>\n",
       "    <tr>\n",
       "      <th>736</th>\n",
       "      <td>737</td>\n",
       "      <td>0</td>\n",
       "      <td>3</td>\n",
       "      <td>Ford, Mrs. Edward (Margaret Ann Watson)</td>\n",
       "      <td>female</td>\n",
       "      <td>48.0</td>\n",
       "      <td>1</td>\n",
       "      <td>3</td>\n",
       "      <td>W./C. 6608</td>\n",
       "      <td>34.3750</td>\n",
       "      <td>NaN</td>\n",
       "      <td>S</td>\n",
       "    </tr>\n",
       "    <tr>\n",
       "      <th>462</th>\n",
       "      <td>463</td>\n",
       "      <td>0</td>\n",
       "      <td>1</td>\n",
       "      <td>Gee, Mr. Arthur H</td>\n",
       "      <td>male</td>\n",
       "      <td>47.0</td>\n",
       "      <td>0</td>\n",
       "      <td>0</td>\n",
       "      <td>111320</td>\n",
       "      <td>38.5000</td>\n",
       "      <td>E63</td>\n",
       "      <td>S</td>\n",
       "    </tr>\n",
       "    <tr>\n",
       "      <th>507</th>\n",
       "      <td>508</td>\n",
       "      <td>1</td>\n",
       "      <td>1</td>\n",
       "      <td>Bradley, Mr. George (\"George Arthur Brayton\")</td>\n",
       "      <td>male</td>\n",
       "      <td>NaN</td>\n",
       "      <td>0</td>\n",
       "      <td>0</td>\n",
       "      <td>111427</td>\n",
       "      <td>26.5500</td>\n",
       "      <td>NaN</td>\n",
       "      <td>S</td>\n",
       "    </tr>\n",
       "  </tbody>\n",
       "</table>\n",
       "<p>712 rows × 12 columns</p>\n",
       "</div>"
      ],
      "text/plain": [
       "     PassengerId  Survived  Pclass  \\\n",
       "692          693         1       3   \n",
       "481          482         0       2   \n",
       "527          528         0       1   \n",
       "855          856         1       3   \n",
       "801          802         1       2   \n",
       "..           ...       ...     ...   \n",
       "359          360         1       3   \n",
       "258          259         1       1   \n",
       "736          737         0       3   \n",
       "462          463         0       1   \n",
       "507          508         1       1   \n",
       "\n",
       "                                              Name     Sex   Age  SibSp  \\\n",
       "692                                   Lam, Mr. Ali    male   NaN      0   \n",
       "481               Frost, Mr. Anthony Wood \"Archie\"    male   NaN      0   \n",
       "527                             Farthing, Mr. John    male   NaN      0   \n",
       "855                     Aks, Mrs. Sam (Leah Rosen)  female  18.0      0   \n",
       "801    Collyer, Mrs. Harvey (Charlotte Annie Tate)  female  31.0      1   \n",
       "..                                             ...     ...   ...    ...   \n",
       "359              Mockler, Miss. Helen Mary \"Ellie\"  female   NaN      0   \n",
       "258                               Ward, Miss. Anna  female  35.0      0   \n",
       "736        Ford, Mrs. Edward (Margaret Ann Watson)  female  48.0      1   \n",
       "462                              Gee, Mr. Arthur H    male  47.0      0   \n",
       "507  Bradley, Mr. George (\"George Arthur Brayton\")    male   NaN      0   \n",
       "\n",
       "     Parch      Ticket      Fare Cabin Embarked  \n",
       "692      0        1601   56.4958   NaN        S  \n",
       "481      0      239854    0.0000   NaN        S  \n",
       "527      0    PC 17483  221.7792   C95        S  \n",
       "855      1      392091    9.3500   NaN        S  \n",
       "801      1  C.A. 31921   26.2500   NaN        S  \n",
       "..     ...         ...       ...   ...      ...  \n",
       "359      0      330980    7.8792   NaN        Q  \n",
       "258      0    PC 17755  512.3292   NaN        C  \n",
       "736      3  W./C. 6608   34.3750   NaN        S  \n",
       "462      0      111320   38.5000   E63        S  \n",
       "507      0      111427   26.5500   NaN        S  \n",
       "\n",
       "[712 rows x 12 columns]"
      ]
     },
     "execution_count": 4,
     "metadata": {},
     "output_type": "execute_result"
    }
   ],
   "source": [
    "train_set"
   ]
  },
  {
   "cell_type": "code",
   "execution_count": 5,
   "id": "23b12db0",
   "metadata": {},
   "outputs": [
    {
     "data": {
      "text/html": [
       "<div>\n",
       "<style scoped>\n",
       "    .dataframe tbody tr th:only-of-type {\n",
       "        vertical-align: middle;\n",
       "    }\n",
       "\n",
       "    .dataframe tbody tr th {\n",
       "        vertical-align: top;\n",
       "    }\n",
       "\n",
       "    .dataframe thead th {\n",
       "        text-align: right;\n",
       "    }\n",
       "</style>\n",
       "<table border=\"1\" class=\"dataframe\">\n",
       "  <thead>\n",
       "    <tr style=\"text-align: right;\">\n",
       "      <th></th>\n",
       "      <th>PassengerId</th>\n",
       "      <th>Survived</th>\n",
       "      <th>Pclass</th>\n",
       "      <th>Name</th>\n",
       "      <th>Sex</th>\n",
       "      <th>Age</th>\n",
       "      <th>SibSp</th>\n",
       "      <th>Parch</th>\n",
       "      <th>Ticket</th>\n",
       "      <th>Fare</th>\n",
       "      <th>Cabin</th>\n",
       "      <th>Embarked</th>\n",
       "    </tr>\n",
       "  </thead>\n",
       "  <tbody>\n",
       "    <tr>\n",
       "      <th>565</th>\n",
       "      <td>566</td>\n",
       "      <td>0</td>\n",
       "      <td>3</td>\n",
       "      <td>Davies, Mr. Alfred J</td>\n",
       "      <td>male</td>\n",
       "      <td>24.0</td>\n",
       "      <td>2</td>\n",
       "      <td>0</td>\n",
       "      <td>A/4 48871</td>\n",
       "      <td>24.1500</td>\n",
       "      <td>NaN</td>\n",
       "      <td>S</td>\n",
       "    </tr>\n",
       "    <tr>\n",
       "      <th>160</th>\n",
       "      <td>161</td>\n",
       "      <td>0</td>\n",
       "      <td>3</td>\n",
       "      <td>Cribb, Mr. John Hatfield</td>\n",
       "      <td>male</td>\n",
       "      <td>44.0</td>\n",
       "      <td>0</td>\n",
       "      <td>1</td>\n",
       "      <td>371362</td>\n",
       "      <td>16.1000</td>\n",
       "      <td>NaN</td>\n",
       "      <td>S</td>\n",
       "    </tr>\n",
       "    <tr>\n",
       "      <th>553</th>\n",
       "      <td>554</td>\n",
       "      <td>1</td>\n",
       "      <td>3</td>\n",
       "      <td>Leeni, Mr. Fahim (\"Philip Zenni\")</td>\n",
       "      <td>male</td>\n",
       "      <td>22.0</td>\n",
       "      <td>0</td>\n",
       "      <td>0</td>\n",
       "      <td>2620</td>\n",
       "      <td>7.2250</td>\n",
       "      <td>NaN</td>\n",
       "      <td>C</td>\n",
       "    </tr>\n",
       "    <tr>\n",
       "      <th>860</th>\n",
       "      <td>861</td>\n",
       "      <td>0</td>\n",
       "      <td>3</td>\n",
       "      <td>Hansen, Mr. Claus Peter</td>\n",
       "      <td>male</td>\n",
       "      <td>41.0</td>\n",
       "      <td>2</td>\n",
       "      <td>0</td>\n",
       "      <td>350026</td>\n",
       "      <td>14.1083</td>\n",
       "      <td>NaN</td>\n",
       "      <td>S</td>\n",
       "    </tr>\n",
       "    <tr>\n",
       "      <th>241</th>\n",
       "      <td>242</td>\n",
       "      <td>1</td>\n",
       "      <td>3</td>\n",
       "      <td>Murphy, Miss. Katherine \"Kate\"</td>\n",
       "      <td>female</td>\n",
       "      <td>NaN</td>\n",
       "      <td>1</td>\n",
       "      <td>0</td>\n",
       "      <td>367230</td>\n",
       "      <td>15.5000</td>\n",
       "      <td>NaN</td>\n",
       "      <td>Q</td>\n",
       "    </tr>\n",
       "    <tr>\n",
       "      <th>...</th>\n",
       "      <td>...</td>\n",
       "      <td>...</td>\n",
       "      <td>...</td>\n",
       "      <td>...</td>\n",
       "      <td>...</td>\n",
       "      <td>...</td>\n",
       "      <td>...</td>\n",
       "      <td>...</td>\n",
       "      <td>...</td>\n",
       "      <td>...</td>\n",
       "      <td>...</td>\n",
       "      <td>...</td>\n",
       "    </tr>\n",
       "    <tr>\n",
       "      <th>880</th>\n",
       "      <td>881</td>\n",
       "      <td>1</td>\n",
       "      <td>2</td>\n",
       "      <td>Shelley, Mrs. William (Imanita Parrish Hall)</td>\n",
       "      <td>female</td>\n",
       "      <td>25.0</td>\n",
       "      <td>0</td>\n",
       "      <td>1</td>\n",
       "      <td>230433</td>\n",
       "      <td>26.0000</td>\n",
       "      <td>NaN</td>\n",
       "      <td>S</td>\n",
       "    </tr>\n",
       "    <tr>\n",
       "      <th>91</th>\n",
       "      <td>92</td>\n",
       "      <td>0</td>\n",
       "      <td>3</td>\n",
       "      <td>Andreasson, Mr. Paul Edvin</td>\n",
       "      <td>male</td>\n",
       "      <td>20.0</td>\n",
       "      <td>0</td>\n",
       "      <td>0</td>\n",
       "      <td>347466</td>\n",
       "      <td>7.8542</td>\n",
       "      <td>NaN</td>\n",
       "      <td>S</td>\n",
       "    </tr>\n",
       "    <tr>\n",
       "      <th>883</th>\n",
       "      <td>884</td>\n",
       "      <td>0</td>\n",
       "      <td>2</td>\n",
       "      <td>Banfield, Mr. Frederick James</td>\n",
       "      <td>male</td>\n",
       "      <td>28.0</td>\n",
       "      <td>0</td>\n",
       "      <td>0</td>\n",
       "      <td>C.A./SOTON 34068</td>\n",
       "      <td>10.5000</td>\n",
       "      <td>NaN</td>\n",
       "      <td>S</td>\n",
       "    </tr>\n",
       "    <tr>\n",
       "      <th>473</th>\n",
       "      <td>474</td>\n",
       "      <td>1</td>\n",
       "      <td>2</td>\n",
       "      <td>Jerwan, Mrs. Amin S (Marie Marthe Thuillard)</td>\n",
       "      <td>female</td>\n",
       "      <td>23.0</td>\n",
       "      <td>0</td>\n",
       "      <td>0</td>\n",
       "      <td>SC/AH Basle 541</td>\n",
       "      <td>13.7917</td>\n",
       "      <td>D</td>\n",
       "      <td>C</td>\n",
       "    </tr>\n",
       "    <tr>\n",
       "      <th>637</th>\n",
       "      <td>638</td>\n",
       "      <td>0</td>\n",
       "      <td>2</td>\n",
       "      <td>Collyer, Mr. Harvey</td>\n",
       "      <td>male</td>\n",
       "      <td>31.0</td>\n",
       "      <td>1</td>\n",
       "      <td>1</td>\n",
       "      <td>C.A. 31921</td>\n",
       "      <td>26.2500</td>\n",
       "      <td>NaN</td>\n",
       "      <td>S</td>\n",
       "    </tr>\n",
       "  </tbody>\n",
       "</table>\n",
       "<p>179 rows × 12 columns</p>\n",
       "</div>"
      ],
      "text/plain": [
       "     PassengerId  Survived  Pclass  \\\n",
       "565          566         0       3   \n",
       "160          161         0       3   \n",
       "553          554         1       3   \n",
       "860          861         0       3   \n",
       "241          242         1       3   \n",
       "..           ...       ...     ...   \n",
       "880          881         1       2   \n",
       "91            92         0       3   \n",
       "883          884         0       2   \n",
       "473          474         1       2   \n",
       "637          638         0       2   \n",
       "\n",
       "                                             Name     Sex   Age  SibSp  Parch  \\\n",
       "565                          Davies, Mr. Alfred J    male  24.0      2      0   \n",
       "160                      Cribb, Mr. John Hatfield    male  44.0      0      1   \n",
       "553             Leeni, Mr. Fahim (\"Philip Zenni\")    male  22.0      0      0   \n",
       "860                       Hansen, Mr. Claus Peter    male  41.0      2      0   \n",
       "241                Murphy, Miss. Katherine \"Kate\"  female   NaN      1      0   \n",
       "..                                            ...     ...   ...    ...    ...   \n",
       "880  Shelley, Mrs. William (Imanita Parrish Hall)  female  25.0      0      1   \n",
       "91                     Andreasson, Mr. Paul Edvin    male  20.0      0      0   \n",
       "883                 Banfield, Mr. Frederick James    male  28.0      0      0   \n",
       "473  Jerwan, Mrs. Amin S (Marie Marthe Thuillard)  female  23.0      0      0   \n",
       "637                           Collyer, Mr. Harvey    male  31.0      1      1   \n",
       "\n",
       "               Ticket     Fare Cabin Embarked  \n",
       "565         A/4 48871  24.1500   NaN        S  \n",
       "160            371362  16.1000   NaN        S  \n",
       "553              2620   7.2250   NaN        C  \n",
       "860            350026  14.1083   NaN        S  \n",
       "241            367230  15.5000   NaN        Q  \n",
       "..                ...      ...   ...      ...  \n",
       "880            230433  26.0000   NaN        S  \n",
       "91             347466   7.8542   NaN        S  \n",
       "883  C.A./SOTON 34068  10.5000   NaN        S  \n",
       "473   SC/AH Basle 541  13.7917     D        C  \n",
       "637        C.A. 31921  26.2500   NaN        S  \n",
       "\n",
       "[179 rows x 12 columns]"
      ]
     },
     "execution_count": 5,
     "metadata": {},
     "output_type": "execute_result"
    }
   ],
   "source": [
    "test_set"
   ]
  },
  {
   "cell_type": "markdown",
   "id": "069e3f50",
   "metadata": {
    "papermill": {
     "duration": 0.01719,
     "end_time": "2023-03-17T08:31:34.624867",
     "exception": false,
     "start_time": "2023-03-17T08:31:34.607677",
     "status": "completed"
    },
    "tags": []
   },
   "source": [
    "## Exploratory Data Analysis"
   ]
  },
  {
   "cell_type": "code",
   "execution_count": 6,
   "id": "b73d941b",
   "metadata": {
    "execution": {
     "iopub.execute_input": "2023-03-17T08:31:34.661898Z",
     "iopub.status.busy": "2023-03-17T08:31:34.661344Z",
     "iopub.status.idle": "2023-03-17T08:31:34.668144Z",
     "shell.execute_reply": "2023-03-17T08:31:34.666788Z"
    },
    "papermill": {
     "duration": 0.028423,
     "end_time": "2023-03-17T08:31:34.670681",
     "exception": false,
     "start_time": "2023-03-17T08:31:34.642258",
     "status": "completed"
    },
    "tags": []
   },
   "outputs": [
    {
     "name": "stdout",
     "output_type": "stream",
     "text": [
      "['PassengerId' 'Survived' 'Pclass' 'Name' 'Sex' 'Age' 'SibSp' 'Parch'\n",
      " 'Ticket' 'Fare' 'Cabin' 'Embarked']\n",
      "Features: 12\n"
     ]
    }
   ],
   "source": [
    "print(train_set.columns.values)\n",
    "print(\"Features:\", len(train_set.columns))"
   ]
  },
  {
   "cell_type": "code",
   "execution_count": 7,
   "id": "b5b68308",
   "metadata": {
    "execution": {
     "iopub.execute_input": "2023-03-17T08:31:34.708385Z",
     "iopub.status.busy": "2023-03-17T08:31:34.707952Z",
     "iopub.status.idle": "2023-03-17T08:31:34.735366Z",
     "shell.execute_reply": "2023-03-17T08:31:34.733549Z"
    },
    "papermill": {
     "duration": 0.049851,
     "end_time": "2023-03-17T08:31:34.738221",
     "exception": false,
     "start_time": "2023-03-17T08:31:34.688370",
     "status": "completed"
    },
    "tags": []
   },
   "outputs": [
    {
     "name": "stdout",
     "output_type": "stream",
     "text": [
      "<class 'pandas.core.frame.DataFrame'>\n",
      "Index: 712 entries, 692 to 507\n",
      "Data columns (total 12 columns):\n",
      " #   Column       Non-Null Count  Dtype  \n",
      "---  ------       --------------  -----  \n",
      " 0   PassengerId  712 non-null    int64  \n",
      " 1   Survived     712 non-null    int64  \n",
      " 2   Pclass       712 non-null    int64  \n",
      " 3   Name         712 non-null    object \n",
      " 4   Sex          712 non-null    object \n",
      " 5   Age          575 non-null    float64\n",
      " 6   SibSp        712 non-null    int64  \n",
      " 7   Parch        712 non-null    int64  \n",
      " 8   Ticket       712 non-null    object \n",
      " 9   Fare         712 non-null    float64\n",
      " 10  Cabin        160 non-null    object \n",
      " 11  Embarked     710 non-null    object \n",
      "dtypes: float64(2), int64(5), object(5)\n",
      "memory usage: 72.3+ KB\n"
     ]
    }
   ],
   "source": [
    "train_set.info()"
   ]
  },
  {
   "cell_type": "code",
   "execution_count": 8,
   "id": "2029aec8",
   "metadata": {
    "execution": {
     "iopub.execute_input": "2023-03-17T08:31:34.776107Z",
     "iopub.status.busy": "2023-03-17T08:31:34.775348Z",
     "iopub.status.idle": "2023-03-17T08:31:34.788699Z",
     "shell.execute_reply": "2023-03-17T08:31:34.787452Z"
    },
    "papermill": {
     "duration": 0.035292,
     "end_time": "2023-03-17T08:31:34.791345",
     "exception": false,
     "start_time": "2023-03-17T08:31:34.756053",
     "status": "completed"
    },
    "tags": []
   },
   "outputs": [
    {
     "data": {
      "text/plain": [
       "PassengerId    712\n",
       "Survived         2\n",
       "Pclass           3\n",
       "Name           712\n",
       "Sex              2\n",
       "Age             85\n",
       "SibSp            7\n",
       "Parch            7\n",
       "Ticket         571\n",
       "Fare           226\n",
       "Cabin          127\n",
       "Embarked         3\n",
       "dtype: int64"
      ]
     },
     "execution_count": 8,
     "metadata": {},
     "output_type": "execute_result"
    }
   ],
   "source": [
    "train_set.nunique()"
   ]
  },
  {
   "cell_type": "markdown",
   "id": "d9777fa7",
   "metadata": {
    "papermill": {
     "duration": 0.019478,
     "end_time": "2023-03-17T08:31:36.132587",
     "exception": false,
     "start_time": "2023-03-17T08:31:36.113109",
     "status": "completed"
    },
    "tags": []
   },
   "source": [
    "### Examine Target Variable"
   ]
  },
  {
   "cell_type": "code",
   "execution_count": 9,
   "id": "75195ca9",
   "metadata": {
    "execution": {
     "iopub.execute_input": "2023-03-17T08:31:36.174875Z",
     "iopub.status.busy": "2023-03-17T08:31:36.173718Z",
     "iopub.status.idle": "2023-03-17T08:31:36.182064Z",
     "shell.execute_reply": "2023-03-17T08:31:36.181227Z"
    },
    "papermill": {
     "duration": 0.031811,
     "end_time": "2023-03-17T08:31:36.184150",
     "exception": false,
     "start_time": "2023-03-17T08:31:36.152339",
     "status": "completed"
    },
    "tags": []
   },
   "outputs": [
    {
     "data": {
      "text/plain": [
       "Survived\n",
       "0    439\n",
       "1    273\n",
       "Name: count, dtype: int64"
      ]
     },
     "execution_count": 9,
     "metadata": {},
     "output_type": "execute_result"
    }
   ],
   "source": [
    "train_set['Survived'].value_counts()"
   ]
  },
  {
   "cell_type": "code",
   "execution_count": 10,
   "id": "94ae02d9",
   "metadata": {
    "execution": {
     "iopub.execute_input": "2023-03-17T08:31:36.227018Z",
     "iopub.status.busy": "2023-03-17T08:31:36.225696Z",
     "iopub.status.idle": "2023-03-17T08:31:36.235954Z",
     "shell.execute_reply": "2023-03-17T08:31:36.233866Z"
    },
    "papermill": {
     "duration": 0.034701,
     "end_time": "2023-03-17T08:31:36.238792",
     "exception": false,
     "start_time": "2023-03-17T08:31:36.204091",
     "status": "completed"
    },
    "tags": []
   },
   "outputs": [
    {
     "name": "stdout",
     "output_type": "stream",
     "text": [
      "Dead: 61.66 % of the dataset\n",
      "Survived: 38.34 % of the dataset\n"
     ]
    }
   ],
   "source": [
    "# Examine target variable.\n",
    "print('Dead:', round(train_set['Survived'].value_counts()[0]/len(train_set) * 100,2), '% of the dataset')\n",
    "print('Survived:', round(train_set['Survived'].value_counts()[1]/len(train_set) * 100,2), '% of the dataset')"
   ]
  },
  {
   "cell_type": "markdown",
   "id": "2a791f46",
   "metadata": {
    "papermill": {
     "duration": 0.022957,
     "end_time": "2023-03-17T08:31:51.115804",
     "exception": false,
     "start_time": "2023-03-17T08:31:51.092847",
     "status": "completed"
    },
    "tags": []
   },
   "source": [
    "## Data Preprocessing"
   ]
  },
  {
   "cell_type": "markdown",
   "id": "beab565c",
   "metadata": {
    "papermill": {
     "duration": 0.022529,
     "end_time": "2023-03-17T08:31:51.161273",
     "exception": false,
     "start_time": "2023-03-17T08:31:51.138744",
     "status": "completed"
    },
    "tags": []
   },
   "source": [
    "### Drop ID"
   ]
  },
  {
   "cell_type": "code",
   "execution_count": 11,
   "id": "5229c9b6",
   "metadata": {
    "execution": {
     "iopub.execute_input": "2023-03-17T08:31:51.209284Z",
     "iopub.status.busy": "2023-03-17T08:31:51.208246Z",
     "iopub.status.idle": "2023-03-17T08:31:51.216349Z",
     "shell.execute_reply": "2023-03-17T08:31:51.215218Z"
    },
    "papermill": {
     "duration": 0.035043,
     "end_time": "2023-03-17T08:31:51.218975",
     "exception": false,
     "start_time": "2023-03-17T08:31:51.183932",
     "status": "completed"
    },
    "tags": []
   },
   "outputs": [],
   "source": [
    "# Save PassengerId\n",
    "train_passenger_id = train_set['PassengerId']\n",
    "test_passenger_id = test_set['PassengerId']\n",
    "\n",
    "# Drop columns\n",
    "train_set.drop(columns=['PassengerId'], inplace=True)\n",
    "test_set.drop(columns=['PassengerId'], inplace=True)"
   ]
  },
  {
   "cell_type": "markdown",
   "id": "294d39ab",
   "metadata": {
    "papermill": {
     "duration": 0.022891,
     "end_time": "2023-03-17T08:31:51.264713",
     "exception": false,
     "start_time": "2023-03-17T08:31:51.241822",
     "status": "completed"
    },
    "tags": []
   },
   "source": [
    "### Handle Missing Values"
   ]
  },
  {
   "cell_type": "code",
   "execution_count": 12,
   "id": "df180b18",
   "metadata": {
    "execution": {
     "iopub.execute_input": "2023-03-17T08:31:51.312168Z",
     "iopub.status.busy": "2023-03-17T08:31:51.311446Z",
     "iopub.status.idle": "2023-03-17T08:31:51.328083Z",
     "shell.execute_reply": "2023-03-17T08:31:51.325662Z"
    },
    "papermill": {
     "duration": 0.043446,
     "end_time": "2023-03-17T08:31:51.330979",
     "exception": false,
     "start_time": "2023-03-17T08:31:51.287533",
     "status": "completed"
    },
    "tags": []
   },
   "outputs": [
    {
     "name": "stdout",
     "output_type": "stream",
     "text": [
      "<class 'pandas.core.frame.DataFrame'>\n",
      "Index: 712 entries, 692 to 507\n",
      "Data columns (total 11 columns):\n",
      " #   Column    Non-Null Count  Dtype  \n",
      "---  ------    --------------  -----  \n",
      " 0   Survived  712 non-null    int64  \n",
      " 1   Pclass    712 non-null    int64  \n",
      " 2   Name      712 non-null    object \n",
      " 3   Sex       712 non-null    object \n",
      " 4   Age       575 non-null    float64\n",
      " 5   SibSp     712 non-null    int64  \n",
      " 6   Parch     712 non-null    int64  \n",
      " 7   Ticket    712 non-null    object \n",
      " 8   Fare      712 non-null    float64\n",
      " 9   Cabin     160 non-null    object \n",
      " 10  Embarked  710 non-null    object \n",
      "dtypes: float64(2), int64(4), object(5)\n",
      "memory usage: 66.8+ KB\n"
     ]
    }
   ],
   "source": [
    "train_set.info()"
   ]
  },
  {
   "cell_type": "code",
   "execution_count": 13,
   "id": "bfd6ec18",
   "metadata": {
    "execution": {
     "iopub.execute_input": "2023-03-17T08:31:51.378458Z",
     "iopub.status.busy": "2023-03-17T08:31:51.377990Z",
     "iopub.status.idle": "2023-03-17T08:31:51.394347Z",
     "shell.execute_reply": "2023-03-17T08:31:51.392494Z"
    },
    "papermill": {
     "duration": 0.043191,
     "end_time": "2023-03-17T08:31:51.397102",
     "exception": false,
     "start_time": "2023-03-17T08:31:51.353911",
     "status": "completed"
    },
    "tags": []
   },
   "outputs": [
    {
     "name": "stdout",
     "output_type": "stream",
     "text": [
      "<class 'pandas.core.frame.DataFrame'>\n",
      "Index: 179 entries, 565 to 637\n",
      "Data columns (total 11 columns):\n",
      " #   Column    Non-Null Count  Dtype  \n",
      "---  ------    --------------  -----  \n",
      " 0   Survived  179 non-null    int64  \n",
      " 1   Pclass    179 non-null    int64  \n",
      " 2   Name      179 non-null    object \n",
      " 3   Sex       179 non-null    object \n",
      " 4   Age       139 non-null    float64\n",
      " 5   SibSp     179 non-null    int64  \n",
      " 6   Parch     179 non-null    int64  \n",
      " 7   Ticket    179 non-null    object \n",
      " 8   Fare      179 non-null    float64\n",
      " 9   Cabin     44 non-null     object \n",
      " 10  Embarked  179 non-null    object \n",
      "dtypes: float64(2), int64(4), object(5)\n",
      "memory usage: 16.8+ KB\n"
     ]
    }
   ],
   "source": [
    "test_set.info()"
   ]
  },
  {
   "cell_type": "code",
   "execution_count": 14,
   "id": "44095937",
   "metadata": {
    "execution": {
     "iopub.execute_input": "2023-03-17T08:31:51.444604Z",
     "iopub.status.busy": "2023-03-17T08:31:51.444140Z",
     "iopub.status.idle": "2023-03-17T08:31:51.456557Z",
     "shell.execute_reply": "2023-03-17T08:31:51.455192Z"
    },
    "papermill": {
     "duration": 0.039073,
     "end_time": "2023-03-17T08:31:51.459052",
     "exception": false,
     "start_time": "2023-03-17T08:31:51.419979",
     "status": "completed"
    },
    "tags": []
   },
   "outputs": [],
   "source": [
    "# Split numerical and categorical variables\n",
    "num_feat = train_set.select_dtypes(include=['int', 'float'])\n",
    "cat_feat = train_set.select_dtypes(include=['object'])\n",
    "\n",
    "num_feat_test = test_set.select_dtypes(include=['int', 'float'])\n",
    "cat_feat_test = test_set.select_dtypes(include=['object'])"
   ]
  },
  {
   "cell_type": "code",
   "execution_count": 15,
   "id": "5d87cd8e",
   "metadata": {
    "execution": {
     "iopub.execute_input": "2023-03-17T08:31:51.510092Z",
     "iopub.status.busy": "2023-03-17T08:31:51.509549Z",
     "iopub.status.idle": "2023-03-17T08:31:51.516195Z",
     "shell.execute_reply": "2023-03-17T08:31:51.514722Z"
    },
    "papermill": {
     "duration": 0.035864,
     "end_time": "2023-03-17T08:31:51.518649",
     "exception": false,
     "start_time": "2023-03-17T08:31:51.482785",
     "status": "completed"
    },
    "tags": []
   },
   "outputs": [],
   "source": [
    "def feat_null_pct(num, data):\n",
    "    missing = num.isnull().sum()\n",
    "    nans = missing[missing > 0].sort_values(ascending=False)\n",
    "    for col in nans.index:\n",
    "        print(f\"{col} Null Values: {round(100 - data[col].value_counts().sum()/len(data) * 100, 2)}% of the dataset\")"
   ]
  },
  {
   "cell_type": "code",
   "execution_count": 16,
   "id": "82d89a76",
   "metadata": {
    "execution": {
     "iopub.execute_input": "2023-03-17T08:31:51.567297Z",
     "iopub.status.busy": "2023-03-17T08:31:51.566851Z",
     "iopub.status.idle": "2023-03-17T08:31:51.579764Z",
     "shell.execute_reply": "2023-03-17T08:31:51.578100Z"
    },
    "papermill": {
     "duration": 0.040506,
     "end_time": "2023-03-17T08:31:51.582218",
     "exception": false,
     "start_time": "2023-03-17T08:31:51.541712",
     "status": "completed"
    },
    "tags": []
   },
   "outputs": [
    {
     "name": "stdout",
     "output_type": "stream",
     "text": [
      "Age Null Values: 19.24% of the dataset\n",
      "Cabin Null Values: 77.53% of the dataset\n",
      "Embarked Null Values: 0.28% of the dataset\n"
     ]
    }
   ],
   "source": [
    "feat_null_pct(num_feat, train_set)\n",
    "feat_null_pct(cat_feat, train_set)"
   ]
  },
  {
   "cell_type": "code",
   "execution_count": 17,
   "id": "a762bba5",
   "metadata": {
    "execution": {
     "iopub.execute_input": "2023-03-17T08:31:51.630678Z",
     "iopub.status.busy": "2023-03-17T08:31:51.629495Z",
     "iopub.status.idle": "2023-03-17T08:31:51.641307Z",
     "shell.execute_reply": "2023-03-17T08:31:51.639659Z"
    },
    "papermill": {
     "duration": 0.0387,
     "end_time": "2023-03-17T08:31:51.643974",
     "exception": false,
     "start_time": "2023-03-17T08:31:51.605274",
     "status": "completed"
    },
    "tags": []
   },
   "outputs": [
    {
     "name": "stdout",
     "output_type": "stream",
     "text": [
      "Age Null Values: 22.35% of the dataset\n",
      "Cabin Null Values: 75.42% of the dataset\n"
     ]
    }
   ],
   "source": [
    "feat_null_pct(num_feat_test, test_set)\n",
    "feat_null_pct(cat_feat_test, test_set)"
   ]
  },
  {
   "cell_type": "code",
   "execution_count": 18,
   "id": "37194700",
   "metadata": {
    "execution": {
     "iopub.execute_input": "2023-03-17T08:31:51.695287Z",
     "iopub.status.busy": "2023-03-17T08:31:51.694160Z",
     "iopub.status.idle": "2023-03-17T08:31:52.127181Z",
     "shell.execute_reply": "2023-03-17T08:31:52.126158Z"
    },
    "papermill": {
     "duration": 0.462132,
     "end_time": "2023-03-17T08:31:52.130096",
     "exception": false,
     "start_time": "2023-03-17T08:31:51.667964",
     "status": "completed"
    },
    "tags": []
   },
   "outputs": [],
   "source": [
    "# Create custom imputer class\n",
    "from sklearn.base import BaseEstimator, TransformerMixin\n",
    "from sklearn.impute import SimpleImputer\n",
    "\n",
    "class FeatureImputer(BaseEstimator, TransformerMixin):\n",
    "    \n",
    "    def fit(self, X, y=None):\n",
    "        self.cat_imputer = SimpleImputer(strategy=\"most_frequent\")\n",
    "        self.num_imputer = SimpleImputer(strategy=\"mean\")\n",
    "\n",
    "        self.cat_imputer.fit(X[['Embarked']])\n",
    "        self.num_imputer.fit(X[['Age', 'Fare']])\n",
    "        return self\n",
    "    \n",
    "    def transform(self, X):\n",
    "        X[['Embarked']] = self.cat_imputer.transform(X[['Embarked']])\n",
    "        X[['Age', 'Fare']] = self.num_imputer.transform(X[['Age', 'Fare']])\n",
    "            \n",
    "        # Check which features contain null values\n",
    "        null_columns = X.columns[X.isnull().any()]\n",
    "        print(X[null_columns].isnull().sum())\n",
    "        \n",
    "        return X"
   ]
  },
  {
   "cell_type": "markdown",
   "id": "15c4ae30",
   "metadata": {
    "papermill": {
     "duration": 0.022984,
     "end_time": "2023-03-17T08:31:52.176367",
     "exception": false,
     "start_time": "2023-03-17T08:31:52.153383",
     "status": "completed"
    },
    "tags": []
   },
   "source": [
    "### Feature Engineering"
   ]
  },
  {
   "cell_type": "code",
   "execution_count": 19,
   "id": "778ae0fd",
   "metadata": {
    "execution": {
     "iopub.execute_input": "2023-03-17T08:31:52.224898Z",
     "iopub.status.busy": "2023-03-17T08:31:52.224442Z",
     "iopub.status.idle": "2023-03-17T08:31:52.230029Z",
     "shell.execute_reply": "2023-03-17T08:31:52.228612Z"
    },
    "papermill": {
     "duration": 0.03311,
     "end_time": "2023-03-17T08:31:52.232717",
     "exception": false,
     "start_time": "2023-03-17T08:31:52.199607",
     "status": "completed"
    },
    "tags": []
   },
   "outputs": [],
   "source": [
    "# Define a function to extract the title from a name\n",
    "def extract_title(name):\n",
    "    return name.split(',')[1].split('.')[0].strip()"
   ]
  },
  {
   "cell_type": "code",
   "execution_count": 20,
   "id": "0f3ccf69",
   "metadata": {
    "execution": {
     "iopub.execute_input": "2023-03-17T08:31:52.281521Z",
     "iopub.status.busy": "2023-03-17T08:31:52.281074Z",
     "iopub.status.idle": "2023-03-17T08:31:52.286311Z",
     "shell.execute_reply": "2023-03-17T08:31:52.285378Z"
    },
    "papermill": {
     "duration": 0.032734,
     "end_time": "2023-03-17T08:31:52.288593",
     "exception": false,
     "start_time": "2023-03-17T08:31:52.255859",
     "status": "completed"
    },
    "tags": []
   },
   "outputs": [],
   "source": [
    "# Define a function to determine whether the passenger is travelling alone or with a family member\n",
    "def is_alone(row):\n",
    "    if row['SibSp'] == 0 and row['Parch'] == 0:\n",
    "        return 1 # Alone\n",
    "    else:\n",
    "        return 0 # With family"
   ]
  },
  {
   "cell_type": "code",
   "execution_count": 21,
   "id": "3bfe8b95",
   "metadata": {},
   "outputs": [],
   "source": [
    "# Bin the ages into groups\n",
    "def age_binner(age):\n",
    "    if age <= 16:\n",
    "        return 'Child'\n",
    "    elif age <= 32:\n",
    "        return 'Young adult'\n",
    "    elif age <= 48:\n",
    "        return 'Adult'\n",
    "    elif age <= 64:\n",
    "        return 'Middle aged'\n",
    "    else:\n",
    "        return 'Senior'"
   ]
  },
  {
   "cell_type": "code",
   "execution_count": 22,
   "id": "e7d6cbbe",
   "metadata": {
    "execution": {
     "iopub.execute_input": "2023-03-17T08:31:52.336726Z",
     "iopub.status.busy": "2023-03-17T08:31:52.335523Z",
     "iopub.status.idle": "2023-03-17T08:31:52.343381Z",
     "shell.execute_reply": "2023-03-17T08:31:52.342154Z"
    },
    "papermill": {
     "duration": 0.034612,
     "end_time": "2023-03-17T08:31:52.345965",
     "exception": false,
     "start_time": "2023-03-17T08:31:52.311353",
     "status": "completed"
    },
    "tags": []
   },
   "outputs": [],
   "source": [
    "# Create class to create new features\n",
    "class FeatureCreator(BaseEstimator, TransformerMixin):\n",
    "    \n",
    "    def fit(self, X, y=None):\n",
    "        return self\n",
    "    \n",
    "    def transform(self, X):\n",
    "        X['Title'] = X['Name'].apply(extract_title)\n",
    "        X['MultipleCabin'] = X['Cabin'].apply(lambda x: 0 if pd.isna(x) else len(x.split(' ')))\n",
    "        X['isAlone'] = X.apply(is_alone, axis=1)\n",
    "        X['Age'] = X['Age'].apply(age_binner)\n",
    "        \n",
    "        return X"
   ]
  },
  {
   "cell_type": "code",
   "execution_count": 23,
   "id": "32994623",
   "metadata": {
    "execution": {
     "iopub.execute_input": "2023-03-17T08:31:52.394741Z",
     "iopub.status.busy": "2023-03-17T08:31:52.393516Z",
     "iopub.status.idle": "2023-03-17T08:31:52.399364Z",
     "shell.execute_reply": "2023-03-17T08:31:52.398561Z"
    },
    "papermill": {
     "duration": 0.032797,
     "end_time": "2023-03-17T08:31:52.401789",
     "exception": false,
     "start_time": "2023-03-17T08:31:52.368992",
     "status": "completed"
    },
    "tags": []
   },
   "outputs": [],
   "source": [
    "# Create feature dropper class\n",
    "class FeatureDropper(BaseEstimator, TransformerMixin):\n",
    "    \n",
    "    def fit(self, X, y=None):\n",
    "        return self\n",
    "    \n",
    "    def transform(self, X):\n",
    "        return X.drop(columns=['Cabin', 'Ticket', 'Name'], axis=1)"
   ]
  },
  {
   "cell_type": "markdown",
   "id": "69fe402d",
   "metadata": {},
   "source": [
    "### Encoding"
   ]
  },
  {
   "cell_type": "code",
   "execution_count": 24,
   "id": "a05b5875",
   "metadata": {},
   "outputs": [],
   "source": [
    "# Create custom encoder class\n",
    "class FeatureEncoder(BaseEstimator, TransformerMixin):\n",
    "    \n",
    "    def fit(self, X, y=None):\n",
    "        return self\n",
    "    \n",
    "    def transform(self, X):\n",
    "        X_encoded = X.copy()\n",
    "        \n",
    "        cat_cols = X.select_dtypes(include=['object'])\n",
    "        \n",
    "        for col in cat_cols:\n",
    "            # Perform one-hot encoding\n",
    "            X_encoded = pd.concat([X_encoded, pd.get_dummies(X_encoded[col], prefix=col)], axis=1)\n",
    "        \n",
    "        # Drop original categorical columns from DataFrame\n",
    "        X_encoded.drop(cat_cols, axis=1, inplace=True)\n",
    "        return X_encoded"
   ]
  },
  {
   "cell_type": "code",
   "execution_count": 25,
   "id": "e02fd50c",
   "metadata": {
    "execution": {
     "iopub.execute_input": "2023-03-17T08:31:52.659575Z",
     "iopub.status.busy": "2023-03-17T08:31:52.658329Z",
     "iopub.status.idle": "2023-03-17T08:31:52.666390Z",
     "shell.execute_reply": "2023-03-17T08:31:52.665468Z"
    },
    "papermill": {
     "duration": 0.035319,
     "end_time": "2023-03-17T08:31:52.668904",
     "exception": false,
     "start_time": "2023-03-17T08:31:52.633585",
     "status": "completed"
    },
    "tags": []
   },
   "outputs": [],
   "source": [
    "def match_columns(train, test):\n",
    "    # Get list of columns in training set\n",
    "    train_cols = train.columns.tolist()\n",
    "    \n",
    "    # Get list of columns in test set\n",
    "    test_cols = test.columns.tolist()\n",
    "    \n",
    "    # Remove any columns in test set that aren't in training set\n",
    "    for col in test_cols:\n",
    "        if col not in train_cols:\n",
    "            test = test.drop(col, axis=1)\n",
    "    \n",
    "    # Add any missing columns to test set and fill with 0\n",
    "    for col in train_cols:\n",
    "        if col not in test_cols:\n",
    "            test[col] = 0\n",
    "    \n",
    "    # Reorder columns in test set to match training set\n",
    "    test = test[train_cols]\n",
    "    \n",
    "    # Return modified test set\n",
    "    return test"
   ]
  },
  {
   "cell_type": "markdown",
   "id": "cbc56515",
   "metadata": {},
   "source": [
    "### Handle Imbalances"
   ]
  },
  {
   "cell_type": "code",
   "execution_count": 26,
   "id": "e7a70db4",
   "metadata": {},
   "outputs": [],
   "source": [
    "from imblearn.over_sampling import SMOTE\n",
    "\n",
    "def balance_classes(X_t, y_t):\n",
    "    sm = SMOTE(random_state=42)\n",
    "    X_t_res, y_t_res = sm.fit_resample(X_t, y_t)\n",
    "    return X_t_res, y_t_res"
   ]
  },
  {
   "cell_type": "markdown",
   "id": "108edce6",
   "metadata": {
    "papermill": {
     "duration": 0.023084,
     "end_time": "2023-03-17T08:31:52.715376",
     "exception": false,
     "start_time": "2023-03-17T08:31:52.692292",
     "status": "completed"
    },
    "tags": []
   },
   "source": [
    "## Modelling and Fitting the Pipeline"
   ]
  },
  {
   "cell_type": "code",
   "execution_count": 27,
   "id": "8e14d1bc",
   "metadata": {
    "execution": {
     "iopub.execute_input": "2023-03-17T08:31:52.763905Z",
     "iopub.status.busy": "2023-03-17T08:31:52.763462Z",
     "iopub.status.idle": "2023-03-17T08:31:52.777683Z",
     "shell.execute_reply": "2023-03-17T08:31:52.776440Z"
    },
    "papermill": {
     "duration": 0.041922,
     "end_time": "2023-03-17T08:31:52.780651",
     "exception": false,
     "start_time": "2023-03-17T08:31:52.738729",
     "status": "completed"
    },
    "tags": []
   },
   "outputs": [],
   "source": [
    "from sklearn.pipeline import Pipeline\n",
    "\n",
    "pipeline = Pipeline([(\"imputer\", FeatureImputer()),\n",
    "                     (\"featurecreator\", FeatureCreator()),\n",
    "                     (\"dropper\", FeatureDropper()),\n",
    "                     (\"encoder\", FeatureEncoder())])"
   ]
  },
  {
   "cell_type": "code",
   "execution_count": 28,
   "id": "d9c61847",
   "metadata": {
    "execution": {
     "iopub.execute_input": "2023-03-17T08:31:52.829328Z",
     "iopub.status.busy": "2023-03-17T08:31:52.828894Z",
     "iopub.status.idle": "2023-03-17T08:31:52.947548Z",
     "shell.execute_reply": "2023-03-17T08:31:52.945697Z"
    },
    "papermill": {
     "duration": 0.147271,
     "end_time": "2023-03-17T08:31:52.951237",
     "exception": false,
     "start_time": "2023-03-17T08:31:52.803966",
     "status": "completed"
    },
    "tags": []
   },
   "outputs": [
    {
     "name": "stdout",
     "output_type": "stream",
     "text": [
      "Cabin    552\n",
      "dtype: int64\n",
      "Cabin    135\n",
      "dtype: int64\n"
     ]
    }
   ],
   "source": [
    "train_set = pipeline.fit_transform(train_set)\n",
    "test_set = pipeline.transform(test_set)"
   ]
  },
  {
   "cell_type": "code",
   "execution_count": 29,
   "id": "10840cf9",
   "metadata": {
    "execution": {
     "iopub.execute_input": "2023-03-17T08:31:53.000630Z",
     "iopub.status.busy": "2023-03-17T08:31:52.999751Z",
     "iopub.status.idle": "2023-03-17T08:31:53.012761Z",
     "shell.execute_reply": "2023-03-17T08:31:53.011685Z"
    },
    "papermill": {
     "duration": 0.040504,
     "end_time": "2023-03-17T08:31:53.015485",
     "exception": false,
     "start_time": "2023-03-17T08:31:52.974981",
     "status": "completed"
    },
    "tags": []
   },
   "outputs": [],
   "source": [
    "test_set = match_columns(train_set, test_set)"
   ]
  },
  {
   "cell_type": "code",
   "execution_count": 30,
   "id": "8c2eb1d2",
   "metadata": {
    "execution": {
     "iopub.execute_input": "2023-03-17T08:31:53.064672Z",
     "iopub.status.busy": "2023-03-17T08:31:53.063875Z",
     "iopub.status.idle": "2023-03-17T08:31:53.086215Z",
     "shell.execute_reply": "2023-03-17T08:31:53.085172Z"
    },
    "papermill": {
     "duration": 0.049302,
     "end_time": "2023-03-17T08:31:53.088442",
     "exception": false,
     "start_time": "2023-03-17T08:31:53.039140",
     "status": "completed"
    },
    "tags": []
   },
   "outputs": [
    {
     "data": {
      "text/html": [
       "<div>\n",
       "<style scoped>\n",
       "    .dataframe tbody tr th:only-of-type {\n",
       "        vertical-align: middle;\n",
       "    }\n",
       "\n",
       "    .dataframe tbody tr th {\n",
       "        vertical-align: top;\n",
       "    }\n",
       "\n",
       "    .dataframe thead th {\n",
       "        text-align: right;\n",
       "    }\n",
       "</style>\n",
       "<table border=\"1\" class=\"dataframe\">\n",
       "  <thead>\n",
       "    <tr style=\"text-align: right;\">\n",
       "      <th></th>\n",
       "      <th>Survived</th>\n",
       "      <th>Pclass</th>\n",
       "      <th>SibSp</th>\n",
       "      <th>Parch</th>\n",
       "      <th>Fare</th>\n",
       "      <th>MultipleCabin</th>\n",
       "      <th>isAlone</th>\n",
       "      <th>Sex_female</th>\n",
       "      <th>Sex_male</th>\n",
       "      <th>Age_Adult</th>\n",
       "      <th>...</th>\n",
       "      <th>Title_Lady</th>\n",
       "      <th>Title_Major</th>\n",
       "      <th>Title_Master</th>\n",
       "      <th>Title_Miss</th>\n",
       "      <th>Title_Mlle</th>\n",
       "      <th>Title_Mr</th>\n",
       "      <th>Title_Mrs</th>\n",
       "      <th>Title_Ms</th>\n",
       "      <th>Title_Rev</th>\n",
       "      <th>Title_Sir</th>\n",
       "    </tr>\n",
       "  </thead>\n",
       "  <tbody>\n",
       "    <tr>\n",
       "      <th>692</th>\n",
       "      <td>1</td>\n",
       "      <td>3</td>\n",
       "      <td>0</td>\n",
       "      <td>0</td>\n",
       "      <td>56.4958</td>\n",
       "      <td>0</td>\n",
       "      <td>1</td>\n",
       "      <td>False</td>\n",
       "      <td>True</td>\n",
       "      <td>False</td>\n",
       "      <td>...</td>\n",
       "      <td>False</td>\n",
       "      <td>False</td>\n",
       "      <td>False</td>\n",
       "      <td>False</td>\n",
       "      <td>False</td>\n",
       "      <td>True</td>\n",
       "      <td>False</td>\n",
       "      <td>False</td>\n",
       "      <td>False</td>\n",
       "      <td>False</td>\n",
       "    </tr>\n",
       "    <tr>\n",
       "      <th>481</th>\n",
       "      <td>0</td>\n",
       "      <td>2</td>\n",
       "      <td>0</td>\n",
       "      <td>0</td>\n",
       "      <td>0.0000</td>\n",
       "      <td>0</td>\n",
       "      <td>1</td>\n",
       "      <td>False</td>\n",
       "      <td>True</td>\n",
       "      <td>False</td>\n",
       "      <td>...</td>\n",
       "      <td>False</td>\n",
       "      <td>False</td>\n",
       "      <td>False</td>\n",
       "      <td>False</td>\n",
       "      <td>False</td>\n",
       "      <td>True</td>\n",
       "      <td>False</td>\n",
       "      <td>False</td>\n",
       "      <td>False</td>\n",
       "      <td>False</td>\n",
       "    </tr>\n",
       "    <tr>\n",
       "      <th>527</th>\n",
       "      <td>0</td>\n",
       "      <td>1</td>\n",
       "      <td>0</td>\n",
       "      <td>0</td>\n",
       "      <td>221.7792</td>\n",
       "      <td>1</td>\n",
       "      <td>1</td>\n",
       "      <td>False</td>\n",
       "      <td>True</td>\n",
       "      <td>False</td>\n",
       "      <td>...</td>\n",
       "      <td>False</td>\n",
       "      <td>False</td>\n",
       "      <td>False</td>\n",
       "      <td>False</td>\n",
       "      <td>False</td>\n",
       "      <td>True</td>\n",
       "      <td>False</td>\n",
       "      <td>False</td>\n",
       "      <td>False</td>\n",
       "      <td>False</td>\n",
       "    </tr>\n",
       "    <tr>\n",
       "      <th>855</th>\n",
       "      <td>1</td>\n",
       "      <td>3</td>\n",
       "      <td>0</td>\n",
       "      <td>1</td>\n",
       "      <td>9.3500</td>\n",
       "      <td>0</td>\n",
       "      <td>0</td>\n",
       "      <td>True</td>\n",
       "      <td>False</td>\n",
       "      <td>False</td>\n",
       "      <td>...</td>\n",
       "      <td>False</td>\n",
       "      <td>False</td>\n",
       "      <td>False</td>\n",
       "      <td>False</td>\n",
       "      <td>False</td>\n",
       "      <td>False</td>\n",
       "      <td>True</td>\n",
       "      <td>False</td>\n",
       "      <td>False</td>\n",
       "      <td>False</td>\n",
       "    </tr>\n",
       "    <tr>\n",
       "      <th>801</th>\n",
       "      <td>1</td>\n",
       "      <td>2</td>\n",
       "      <td>1</td>\n",
       "      <td>1</td>\n",
       "      <td>26.2500</td>\n",
       "      <td>0</td>\n",
       "      <td>0</td>\n",
       "      <td>True</td>\n",
       "      <td>False</td>\n",
       "      <td>False</td>\n",
       "      <td>...</td>\n",
       "      <td>False</td>\n",
       "      <td>False</td>\n",
       "      <td>False</td>\n",
       "      <td>False</td>\n",
       "      <td>False</td>\n",
       "      <td>False</td>\n",
       "      <td>True</td>\n",
       "      <td>False</td>\n",
       "      <td>False</td>\n",
       "      <td>False</td>\n",
       "    </tr>\n",
       "  </tbody>\n",
       "</table>\n",
       "<p>5 rows × 31 columns</p>\n",
       "</div>"
      ],
      "text/plain": [
       "     Survived  Pclass  SibSp  Parch      Fare  MultipleCabin  isAlone  \\\n",
       "692         1       3      0      0   56.4958              0        1   \n",
       "481         0       2      0      0    0.0000              0        1   \n",
       "527         0       1      0      0  221.7792              1        1   \n",
       "855         1       3      0      1    9.3500              0        0   \n",
       "801         1       2      1      1   26.2500              0        0   \n",
       "\n",
       "     Sex_female  Sex_male  Age_Adult  ...  Title_Lady  Title_Major  \\\n",
       "692       False      True      False  ...       False        False   \n",
       "481       False      True      False  ...       False        False   \n",
       "527       False      True      False  ...       False        False   \n",
       "855        True     False      False  ...       False        False   \n",
       "801        True     False      False  ...       False        False   \n",
       "\n",
       "     Title_Master  Title_Miss  Title_Mlle  Title_Mr  Title_Mrs  Title_Ms  \\\n",
       "692         False       False       False      True      False     False   \n",
       "481         False       False       False      True      False     False   \n",
       "527         False       False       False      True      False     False   \n",
       "855         False       False       False     False       True     False   \n",
       "801         False       False       False     False       True     False   \n",
       "\n",
       "     Title_Rev  Title_Sir  \n",
       "692      False      False  \n",
       "481      False      False  \n",
       "527      False      False  \n",
       "855      False      False  \n",
       "801      False      False  \n",
       "\n",
       "[5 rows x 31 columns]"
      ]
     },
     "execution_count": 30,
     "metadata": {},
     "output_type": "execute_result"
    }
   ],
   "source": [
    "train_set.head()"
   ]
  },
  {
   "cell_type": "code",
   "execution_count": 31,
   "id": "5f3d8416",
   "metadata": {
    "execution": {
     "iopub.execute_input": "2023-03-17T08:31:53.138228Z",
     "iopub.status.busy": "2023-03-17T08:31:53.137789Z",
     "iopub.status.idle": "2023-03-17T08:31:53.163297Z",
     "shell.execute_reply": "2023-03-17T08:31:53.162045Z"
    },
    "papermill": {
     "duration": 0.053763,
     "end_time": "2023-03-17T08:31:53.165827",
     "exception": false,
     "start_time": "2023-03-17T08:31:53.112064",
     "status": "completed"
    },
    "tags": []
   },
   "outputs": [
    {
     "data": {
      "text/html": [
       "<div>\n",
       "<style scoped>\n",
       "    .dataframe tbody tr th:only-of-type {\n",
       "        vertical-align: middle;\n",
       "    }\n",
       "\n",
       "    .dataframe tbody tr th {\n",
       "        vertical-align: top;\n",
       "    }\n",
       "\n",
       "    .dataframe thead th {\n",
       "        text-align: right;\n",
       "    }\n",
       "</style>\n",
       "<table border=\"1\" class=\"dataframe\">\n",
       "  <thead>\n",
       "    <tr style=\"text-align: right;\">\n",
       "      <th></th>\n",
       "      <th>Survived</th>\n",
       "      <th>Pclass</th>\n",
       "      <th>SibSp</th>\n",
       "      <th>Parch</th>\n",
       "      <th>Fare</th>\n",
       "      <th>MultipleCabin</th>\n",
       "      <th>isAlone</th>\n",
       "      <th>Sex_female</th>\n",
       "      <th>Sex_male</th>\n",
       "      <th>Age_Adult</th>\n",
       "      <th>...</th>\n",
       "      <th>Title_Lady</th>\n",
       "      <th>Title_Major</th>\n",
       "      <th>Title_Master</th>\n",
       "      <th>Title_Miss</th>\n",
       "      <th>Title_Mlle</th>\n",
       "      <th>Title_Mr</th>\n",
       "      <th>Title_Mrs</th>\n",
       "      <th>Title_Ms</th>\n",
       "      <th>Title_Rev</th>\n",
       "      <th>Title_Sir</th>\n",
       "    </tr>\n",
       "  </thead>\n",
       "  <tbody>\n",
       "    <tr>\n",
       "      <th>565</th>\n",
       "      <td>0</td>\n",
       "      <td>3</td>\n",
       "      <td>2</td>\n",
       "      <td>0</td>\n",
       "      <td>24.1500</td>\n",
       "      <td>0</td>\n",
       "      <td>0</td>\n",
       "      <td>False</td>\n",
       "      <td>True</td>\n",
       "      <td>False</td>\n",
       "      <td>...</td>\n",
       "      <td>0</td>\n",
       "      <td>False</td>\n",
       "      <td>False</td>\n",
       "      <td>False</td>\n",
       "      <td>0</td>\n",
       "      <td>True</td>\n",
       "      <td>False</td>\n",
       "      <td>0</td>\n",
       "      <td>False</td>\n",
       "      <td>0</td>\n",
       "    </tr>\n",
       "    <tr>\n",
       "      <th>160</th>\n",
       "      <td>0</td>\n",
       "      <td>3</td>\n",
       "      <td>0</td>\n",
       "      <td>1</td>\n",
       "      <td>16.1000</td>\n",
       "      <td>0</td>\n",
       "      <td>0</td>\n",
       "      <td>False</td>\n",
       "      <td>True</td>\n",
       "      <td>True</td>\n",
       "      <td>...</td>\n",
       "      <td>0</td>\n",
       "      <td>False</td>\n",
       "      <td>False</td>\n",
       "      <td>False</td>\n",
       "      <td>0</td>\n",
       "      <td>True</td>\n",
       "      <td>False</td>\n",
       "      <td>0</td>\n",
       "      <td>False</td>\n",
       "      <td>0</td>\n",
       "    </tr>\n",
       "    <tr>\n",
       "      <th>553</th>\n",
       "      <td>1</td>\n",
       "      <td>3</td>\n",
       "      <td>0</td>\n",
       "      <td>0</td>\n",
       "      <td>7.2250</td>\n",
       "      <td>0</td>\n",
       "      <td>1</td>\n",
       "      <td>False</td>\n",
       "      <td>True</td>\n",
       "      <td>False</td>\n",
       "      <td>...</td>\n",
       "      <td>0</td>\n",
       "      <td>False</td>\n",
       "      <td>False</td>\n",
       "      <td>False</td>\n",
       "      <td>0</td>\n",
       "      <td>True</td>\n",
       "      <td>False</td>\n",
       "      <td>0</td>\n",
       "      <td>False</td>\n",
       "      <td>0</td>\n",
       "    </tr>\n",
       "    <tr>\n",
       "      <th>860</th>\n",
       "      <td>0</td>\n",
       "      <td>3</td>\n",
       "      <td>2</td>\n",
       "      <td>0</td>\n",
       "      <td>14.1083</td>\n",
       "      <td>0</td>\n",
       "      <td>0</td>\n",
       "      <td>False</td>\n",
       "      <td>True</td>\n",
       "      <td>True</td>\n",
       "      <td>...</td>\n",
       "      <td>0</td>\n",
       "      <td>False</td>\n",
       "      <td>False</td>\n",
       "      <td>False</td>\n",
       "      <td>0</td>\n",
       "      <td>True</td>\n",
       "      <td>False</td>\n",
       "      <td>0</td>\n",
       "      <td>False</td>\n",
       "      <td>0</td>\n",
       "    </tr>\n",
       "    <tr>\n",
       "      <th>241</th>\n",
       "      <td>1</td>\n",
       "      <td>3</td>\n",
       "      <td>1</td>\n",
       "      <td>0</td>\n",
       "      <td>15.5000</td>\n",
       "      <td>0</td>\n",
       "      <td>0</td>\n",
       "      <td>True</td>\n",
       "      <td>False</td>\n",
       "      <td>False</td>\n",
       "      <td>...</td>\n",
       "      <td>0</td>\n",
       "      <td>False</td>\n",
       "      <td>False</td>\n",
       "      <td>True</td>\n",
       "      <td>0</td>\n",
       "      <td>False</td>\n",
       "      <td>False</td>\n",
       "      <td>0</td>\n",
       "      <td>False</td>\n",
       "      <td>0</td>\n",
       "    </tr>\n",
       "  </tbody>\n",
       "</table>\n",
       "<p>5 rows × 31 columns</p>\n",
       "</div>"
      ],
      "text/plain": [
       "     Survived  Pclass  SibSp  Parch     Fare  MultipleCabin  isAlone  \\\n",
       "565         0       3      2      0  24.1500              0        0   \n",
       "160         0       3      0      1  16.1000              0        0   \n",
       "553         1       3      0      0   7.2250              0        1   \n",
       "860         0       3      2      0  14.1083              0        0   \n",
       "241         1       3      1      0  15.5000              0        0   \n",
       "\n",
       "     Sex_female  Sex_male  Age_Adult  ...  Title_Lady  Title_Major  \\\n",
       "565       False      True      False  ...           0        False   \n",
       "160       False      True       True  ...           0        False   \n",
       "553       False      True      False  ...           0        False   \n",
       "860       False      True       True  ...           0        False   \n",
       "241        True     False      False  ...           0        False   \n",
       "\n",
       "     Title_Master  Title_Miss  Title_Mlle  Title_Mr  Title_Mrs  Title_Ms  \\\n",
       "565         False       False           0      True      False         0   \n",
       "160         False       False           0      True      False         0   \n",
       "553         False       False           0      True      False         0   \n",
       "860         False       False           0      True      False         0   \n",
       "241         False        True           0     False      False         0   \n",
       "\n",
       "     Title_Rev  Title_Sir  \n",
       "565      False          0  \n",
       "160      False          0  \n",
       "553      False          0  \n",
       "860      False          0  \n",
       "241      False          0  \n",
       "\n",
       "[5 rows x 31 columns]"
      ]
     },
     "execution_count": 31,
     "metadata": {},
     "output_type": "execute_result"
    }
   ],
   "source": [
    "test_set.head()"
   ]
  },
  {
   "cell_type": "markdown",
   "id": "0e171fda",
   "metadata": {
    "papermill": {
     "duration": 0.034372,
     "end_time": "2023-03-17T08:31:58.144956",
     "exception": false,
     "start_time": "2023-03-17T08:31:58.110584",
     "status": "completed"
    },
    "tags": []
   },
   "source": [
    "# Evaluation"
   ]
  },
  {
   "cell_type": "code",
   "execution_count": 32,
   "id": "0e5d6982",
   "metadata": {
    "execution": {
     "iopub.execute_input": "2023-03-17T08:31:58.217055Z",
     "iopub.status.busy": "2023-03-17T08:31:58.216205Z",
     "iopub.status.idle": "2023-03-17T08:31:58.223033Z",
     "shell.execute_reply": "2023-03-17T08:31:58.221725Z"
    },
    "papermill": {
     "duration": 0.046178,
     "end_time": "2023-03-17T08:31:58.225975",
     "exception": false,
     "start_time": "2023-03-17T08:31:58.179797",
     "status": "completed"
    },
    "tags": []
   },
   "outputs": [],
   "source": [
    "X_train = train_set.drop(['Survived'], axis=1)\n",
    "y_train = train_set['Survived']\n",
    "\n",
    "X_test = test_set.drop(['Survived'], axis=1)\n",
    "y_test = test_set['Survived']"
   ]
  },
  {
   "cell_type": "code",
   "execution_count": 33,
   "id": "5a1cca80",
   "metadata": {},
   "outputs": [],
   "source": [
    "X_train, y_train = balance_classes(X_train, y_train)"
   ]
  },
  {
   "cell_type": "code",
   "execution_count": 34,
   "id": "31cfb4ee",
   "metadata": {
    "execution": {
     "iopub.execute_input": "2023-03-17T08:31:58.297673Z",
     "iopub.status.busy": "2023-03-17T08:31:58.296505Z",
     "iopub.status.idle": "2023-03-17T08:31:58.319249Z",
     "shell.execute_reply": "2023-03-17T08:31:58.317990Z"
    },
    "papermill": {
     "duration": 0.061349,
     "end_time": "2023-03-17T08:31:58.321888",
     "exception": false,
     "start_time": "2023-03-17T08:31:58.260539",
     "status": "completed"
    },
    "tags": []
   },
   "outputs": [
    {
     "data": {
      "text/html": [
       "<div>\n",
       "<style scoped>\n",
       "    .dataframe tbody tr th:only-of-type {\n",
       "        vertical-align: middle;\n",
       "    }\n",
       "\n",
       "    .dataframe tbody tr th {\n",
       "        vertical-align: top;\n",
       "    }\n",
       "\n",
       "    .dataframe thead th {\n",
       "        text-align: right;\n",
       "    }\n",
       "</style>\n",
       "<table border=\"1\" class=\"dataframe\">\n",
       "  <thead>\n",
       "    <tr style=\"text-align: right;\">\n",
       "      <th></th>\n",
       "      <th>Pclass</th>\n",
       "      <th>SibSp</th>\n",
       "      <th>Parch</th>\n",
       "      <th>Fare</th>\n",
       "      <th>MultipleCabin</th>\n",
       "      <th>isAlone</th>\n",
       "      <th>Sex_female</th>\n",
       "      <th>Sex_male</th>\n",
       "      <th>Age_Adult</th>\n",
       "      <th>Age_Child</th>\n",
       "      <th>...</th>\n",
       "      <th>Title_Lady</th>\n",
       "      <th>Title_Major</th>\n",
       "      <th>Title_Master</th>\n",
       "      <th>Title_Miss</th>\n",
       "      <th>Title_Mlle</th>\n",
       "      <th>Title_Mr</th>\n",
       "      <th>Title_Mrs</th>\n",
       "      <th>Title_Ms</th>\n",
       "      <th>Title_Rev</th>\n",
       "      <th>Title_Sir</th>\n",
       "    </tr>\n",
       "  </thead>\n",
       "  <tbody>\n",
       "    <tr>\n",
       "      <th>0</th>\n",
       "      <td>3</td>\n",
       "      <td>0</td>\n",
       "      <td>0</td>\n",
       "      <td>56.4958</td>\n",
       "      <td>0</td>\n",
       "      <td>1</td>\n",
       "      <td>False</td>\n",
       "      <td>True</td>\n",
       "      <td>False</td>\n",
       "      <td>False</td>\n",
       "      <td>...</td>\n",
       "      <td>False</td>\n",
       "      <td>False</td>\n",
       "      <td>False</td>\n",
       "      <td>False</td>\n",
       "      <td>False</td>\n",
       "      <td>True</td>\n",
       "      <td>False</td>\n",
       "      <td>False</td>\n",
       "      <td>False</td>\n",
       "      <td>False</td>\n",
       "    </tr>\n",
       "    <tr>\n",
       "      <th>1</th>\n",
       "      <td>2</td>\n",
       "      <td>0</td>\n",
       "      <td>0</td>\n",
       "      <td>0.0000</td>\n",
       "      <td>0</td>\n",
       "      <td>1</td>\n",
       "      <td>False</td>\n",
       "      <td>True</td>\n",
       "      <td>False</td>\n",
       "      <td>False</td>\n",
       "      <td>...</td>\n",
       "      <td>False</td>\n",
       "      <td>False</td>\n",
       "      <td>False</td>\n",
       "      <td>False</td>\n",
       "      <td>False</td>\n",
       "      <td>True</td>\n",
       "      <td>False</td>\n",
       "      <td>False</td>\n",
       "      <td>False</td>\n",
       "      <td>False</td>\n",
       "    </tr>\n",
       "    <tr>\n",
       "      <th>2</th>\n",
       "      <td>1</td>\n",
       "      <td>0</td>\n",
       "      <td>0</td>\n",
       "      <td>221.7792</td>\n",
       "      <td>1</td>\n",
       "      <td>1</td>\n",
       "      <td>False</td>\n",
       "      <td>True</td>\n",
       "      <td>False</td>\n",
       "      <td>False</td>\n",
       "      <td>...</td>\n",
       "      <td>False</td>\n",
       "      <td>False</td>\n",
       "      <td>False</td>\n",
       "      <td>False</td>\n",
       "      <td>False</td>\n",
       "      <td>True</td>\n",
       "      <td>False</td>\n",
       "      <td>False</td>\n",
       "      <td>False</td>\n",
       "      <td>False</td>\n",
       "    </tr>\n",
       "    <tr>\n",
       "      <th>3</th>\n",
       "      <td>3</td>\n",
       "      <td>0</td>\n",
       "      <td>1</td>\n",
       "      <td>9.3500</td>\n",
       "      <td>0</td>\n",
       "      <td>0</td>\n",
       "      <td>True</td>\n",
       "      <td>False</td>\n",
       "      <td>False</td>\n",
       "      <td>False</td>\n",
       "      <td>...</td>\n",
       "      <td>False</td>\n",
       "      <td>False</td>\n",
       "      <td>False</td>\n",
       "      <td>False</td>\n",
       "      <td>False</td>\n",
       "      <td>False</td>\n",
       "      <td>True</td>\n",
       "      <td>False</td>\n",
       "      <td>False</td>\n",
       "      <td>False</td>\n",
       "    </tr>\n",
       "    <tr>\n",
       "      <th>4</th>\n",
       "      <td>2</td>\n",
       "      <td>1</td>\n",
       "      <td>1</td>\n",
       "      <td>26.2500</td>\n",
       "      <td>0</td>\n",
       "      <td>0</td>\n",
       "      <td>True</td>\n",
       "      <td>False</td>\n",
       "      <td>False</td>\n",
       "      <td>False</td>\n",
       "      <td>...</td>\n",
       "      <td>False</td>\n",
       "      <td>False</td>\n",
       "      <td>False</td>\n",
       "      <td>False</td>\n",
       "      <td>False</td>\n",
       "      <td>False</td>\n",
       "      <td>True</td>\n",
       "      <td>False</td>\n",
       "      <td>False</td>\n",
       "      <td>False</td>\n",
       "    </tr>\n",
       "  </tbody>\n",
       "</table>\n",
       "<p>5 rows × 30 columns</p>\n",
       "</div>"
      ],
      "text/plain": [
       "   Pclass  SibSp  Parch      Fare  MultipleCabin  isAlone  Sex_female  \\\n",
       "0       3      0      0   56.4958              0        1       False   \n",
       "1       2      0      0    0.0000              0        1       False   \n",
       "2       1      0      0  221.7792              1        1       False   \n",
       "3       3      0      1    9.3500              0        0        True   \n",
       "4       2      1      1   26.2500              0        0        True   \n",
       "\n",
       "   Sex_male  Age_Adult  Age_Child  ...  Title_Lady  Title_Major  Title_Master  \\\n",
       "0      True      False      False  ...       False        False         False   \n",
       "1      True      False      False  ...       False        False         False   \n",
       "2      True      False      False  ...       False        False         False   \n",
       "3     False      False      False  ...       False        False         False   \n",
       "4     False      False      False  ...       False        False         False   \n",
       "\n",
       "   Title_Miss  Title_Mlle  Title_Mr  Title_Mrs  Title_Ms  Title_Rev  Title_Sir  \n",
       "0       False       False      True      False     False      False      False  \n",
       "1       False       False      True      False     False      False      False  \n",
       "2       False       False      True      False     False      False      False  \n",
       "3       False       False     False       True     False      False      False  \n",
       "4       False       False     False       True     False      False      False  \n",
       "\n",
       "[5 rows x 30 columns]"
      ]
     },
     "execution_count": 34,
     "metadata": {},
     "output_type": "execute_result"
    }
   ],
   "source": [
    "X_train.head()"
   ]
  },
  {
   "cell_type": "code",
   "execution_count": 36,
   "id": "69fdb8ac",
   "metadata": {},
   "outputs": [],
   "source": [
    "# Train model\n",
    "clf = DecisionTreeClassifier(max_depth=5)\n",
    "clf.fit(X_train.values, y_train.values)\n",
    "\n",
    "# Make predictions\n",
    "y_pred = clf.predict(X_test.values)"
   ]
  },
  {
   "cell_type": "code",
   "execution_count": 37,
   "id": "33442632",
   "metadata": {},
   "outputs": [
    {
     "name": "stdout",
     "output_type": "stream",
     "text": [
      "              precision    recall  f1-score   support\n",
      "\n",
      "           0       0.81      0.87      0.84       110\n",
      "           1       0.77      0.68      0.72        69\n",
      "\n",
      "    accuracy                           0.80       179\n",
      "   macro avg       0.79      0.78      0.78       179\n",
      "weighted avg       0.80      0.80      0.80       179\n",
      "\n"
     ]
    }
   ],
   "source": [
    "# Evaluate the model\n",
    "from sklearn.metrics import classification_report\n",
    "\n",
    "print(classification_report(y_test, y_pred))"
   ]
  },
  {
   "cell_type": "code",
   "execution_count": 38,
   "id": "1a6f45e6",
   "metadata": {},
   "outputs": [
    {
     "name": "stdout",
     "output_type": "stream",
     "text": [
      "              precision    recall  f1-score   support\n",
      "\n",
      "           0       0.80      0.87      0.83       110\n",
      "           1       0.76      0.65      0.70        69\n",
      "\n",
      "    accuracy                           0.79       179\n",
      "   macro avg       0.78      0.76      0.77       179\n",
      "weighted avg       0.79      0.79      0.78       179\n",
      "\n"
     ]
    }
   ],
   "source": [
    "# Compare with sklearn's DecisionTreeClassifier\n",
    "from sklearn.tree import DecisionTreeClassifier as SkDecisionTreeClassifier\n",
    "\n",
    "model = SkDecisionTreeClassifier(max_depth=5)\n",
    "model.fit(X_train.values, y_train.values)\n",
    "\n",
    "y_pred_sk = model.predict(X_test.values)\n",
    "\n",
    "print(classification_report(y_test, y_pred_sk))"
   ]
  },
  {
   "cell_type": "markdown",
   "id": "44c1d701",
   "metadata": {},
   "source": [
    "# External Dataset Evaluation\n",
    "`UNCOMMENT TO TRY YOUR OWN DATA`"
   ]
  },
  {
   "cell_type": "code",
   "execution_count": 39,
   "id": "5f905ff0",
   "metadata": {},
   "outputs": [],
   "source": [
    "# DATA = \"ENTER PATH TO DATA HERE\"\n",
    "# TARGET = \"ENTER TARGET COLUMN NAME HERE\"\n",
    "# MAX_DEPTH = 5\n",
    "\n",
    "# df = pd.read_csv(DATA)\n",
    "# X = df.drop(TARGET, axis=1)\n",
    "# y = df[TARGET]\n",
    "\n",
    "# X_train, X_test, y_train, y_test = train_test_split(X, y, test_size=0.2, stratify=y, random_state=42)\n",
    "\n",
    "# dt = DecisionTreeClassifier(max_depth=MAX_DEPTH)\n",
    "# dt.fit(X_train.values, y_train.values)\n",
    "\n",
    "# y_pred = dt.predict(X_test.values)\n",
    "\n",
    "# print(classification_report(y_test, y_pred))"
   ]
  }
 ],
 "metadata": {
  "kernelspec": {
   "display_name": "Python 3",
   "language": "python",
   "name": "python3"
  },
  "language_info": {
   "codemirror_mode": {
    "name": "ipython",
    "version": 3
   },
   "file_extension": ".py",
   "mimetype": "text/x-python",
   "name": "python",
   "nbconvert_exporter": "python",
   "pygments_lexer": "ipython3",
   "version": "3.11.4"
  },
  "papermill": {
   "default_parameters": {},
   "duration": 59.629288,
   "end_time": "2023-03-17T08:32:22.539626",
   "environment_variables": {},
   "exception": null,
   "input_path": "__notebook__.ipynb",
   "output_path": "__notebook__.ipynb",
   "parameters": {},
   "start_time": "2023-03-17T08:31:22.910338",
   "version": "2.4.0"
  }
 },
 "nbformat": 4,
 "nbformat_minor": 5
}
